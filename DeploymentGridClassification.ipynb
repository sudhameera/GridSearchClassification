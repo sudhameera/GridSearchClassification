{
 "cells": [
  {
   "cell_type": "code",
   "execution_count": 1,
   "id": "568dfa41",
   "metadata": {},
   "outputs": [],
   "source": [
    "import pickle"
   ]
  },
  {
   "cell_type": "code",
   "execution_count": 2,
   "id": "455ea11a",
   "metadata": {},
   "outputs": [],
   "source": [
    "FinalModel=pickle.load(open(\"FinalModelClassification.sav\",\"rb\"))"
   ]
  },
  {
   "cell_type": "code",
   "execution_count": 3,
   "id": "9e7a6cfb",
   "metadata": {},
   "outputs": [
    {
     "name": "stdout",
     "output_type": "stream",
     "text": [
      "Enter S.No : 1\n",
      "Enter Age : 30\n",
      "Enter Salary : 91000\n",
      "Gender Male 0 or 1: 1\n"
     ]
    }
   ],
   "source": [
    "s_no=int(input(\"Enter S.No : \"))\n",
    "age=int(input(\"Enter Age : \"))\n",
    "estimated_salary=int(input(\"Enter Salary : \"))\n",
    "gender=int(input(\"Gender Male 0 or 1: \"))"
   ]
  },
  {
   "cell_type": "code",
   "execution_count": 4,
   "id": "ce9dfdfe",
   "metadata": {},
   "outputs": [],
   "source": [
    "result=FinalModel.predict([[s_no,age,estimated_salary,gender]])"
   ]
  },
  {
   "cell_type": "code",
   "execution_count": 5,
   "id": "24f692e6",
   "metadata": {},
   "outputs": [
    {
     "name": "stdout",
     "output_type": "stream",
     "text": [
      "The Prediction is [1]: \n"
     ]
    }
   ],
   "source": [
    "print(\"The Prediction is {}: \".format(result))"
   ]
  },
  {
   "cell_type": "code",
   "execution_count": null,
   "id": "e291fc5c",
   "metadata": {},
   "outputs": [],
   "source": []
  }
 ],
 "metadata": {
  "kernelspec": {
   "display_name": "Python 3 (ipykernel)",
   "language": "python",
   "name": "python3"
  },
  "language_info": {
   "codemirror_mode": {
    "name": "ipython",
    "version": 3
   },
   "file_extension": ".py",
   "mimetype": "text/x-python",
   "name": "python",
   "nbconvert_exporter": "python",
   "pygments_lexer": "ipython3",
   "version": "3.9.13"
  }
 },
 "nbformat": 4,
 "nbformat_minor": 5
}
